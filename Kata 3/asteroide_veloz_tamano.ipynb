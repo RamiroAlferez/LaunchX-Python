{
 "cells": [
  {
   "cell_type": "code",
   "execution_count": null,
   "metadata": {},
   "outputs": [],
   "source": []
  },
  {
   "cell_type": "code",
   "execution_count": 8,
   "metadata": {},
   "outputs": [
    {
     "name": "stdout",
     "output_type": "stream",
     "text": [
      "Aquí todo sigue igual, es un ateroide pequeñito a baja velocidad que se deseintegró\n"
     ]
    }
   ],
   "source": [
    "velocidad_asteroide = 10\n",
    "tamano_asteroide = 30\n",
    "if velocidad_asteroide > 25 and tamano_asteroide > 25 and tamano_asteroide < 1000:\n",
    "    print('¡Peligro Will Robinson! un asteroide muy grande se acerca a la Tierra demasiado rápido!')\n",
    "elif velocidad_asteroide >= 20:\n",
    "    print('Mira el Cielo Will Robinson, una asteroide está generando una estela de luz!!!!!!')\n",
    "elif tamano_asteroide < 25:\n",
    "    print('¡El ateroide ingresará a la tierra en condicciones seguras!')\n",
    "else:\n",
    "    print('Aquí todo sigue igual, es un asteroide pequeñito a baja velocidad que se deseintegró')"
   ]
  },
  {
   "cell_type": "markdown",
   "metadata": {},
   "source": [
    "Asteroide que valida su velocidad y tamaño."
   ]
  },
  {
   "cell_type": "code",
   "execution_count": null,
   "metadata": {},
   "outputs": [],
   "source": []
  }
 ],
 "metadata": {
  "interpreter": {
   "hash": "0d008810b9c8467bcb3ca39aa2180e5b81b3a9acb136aab30d47954377cc5120"
  },
  "kernelspec": {
   "display_name": "Python 3.9.7 64-bit",
   "language": "python",
   "name": "python3"
  },
  "language_info": {
   "codemirror_mode": {
    "name": "ipython",
    "version": 3
   },
   "file_extension": ".py",
   "mimetype": "text/x-python",
   "name": "python",
   "nbconvert_exporter": "python",
   "pygments_lexer": "ipython3",
   "version": "3.9.7"
  },
  "orig_nbformat": 4
 },
 "nbformat": 4,
 "nbformat_minor": 2
}
