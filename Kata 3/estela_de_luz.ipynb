{
 "cells": [
  {
   "cell_type": "code",
   "execution_count": null,
   "metadata": {},
   "outputs": [],
   "source": []
  },
  {
   "cell_type": "code",
   "execution_count": 2,
   "metadata": {},
   "outputs": [
    {
     "name": "stdout",
     "output_type": "stream",
     "text": [
      "Mira el Cielo, una asteroide a más de 20 Km/s esta generando una estela de luz!!!!!\n"
     ]
    }
   ],
   "source": [
    "asteroide = 19\n",
    "#asteroid = 22\n",
    "\n",
    "if asteroide > 20:\n",
    "    print('Mira el Cielo, una asteroide a más de 20 Km/s esta generando una estela de luz!!!!!')\n",
    "elif asteroide == 20:\n",
    "    print('Mira el Cielo, una asteroide a 20 Km/s esta generando una pequeña estela de luz!!!!!')\n",
    "else:\n",
    "    print('No vimos nada, aqui no pasó nada!!')"
   ]
  },
  {
   "cell_type": "markdown",
   "metadata": {},
   "source": [
    "Estela de luz de un asteroide"
   ]
  },
  {
   "cell_type": "markdown",
   "metadata": {},
   "source": []
  },
  {
   "cell_type": "code",
   "execution_count": null,
   "metadata": {},
   "outputs": [],
   "source": []
  }
 ],
 "metadata": {
  "interpreter": {
   "hash": "0d008810b9c8467bcb3ca39aa2180e5b81b3a9acb136aab30d47954377cc5120"
  },
  "kernelspec": {
   "display_name": "Python 3.9.7 64-bit",
   "language": "python",
   "name": "python3"
  },
  "language_info": {
   "codemirror_mode": {
    "name": "ipython",
    "version": 3
   },
   "file_extension": ".py",
   "mimetype": "text/x-python",
   "name": "python",
   "nbconvert_exporter": "python",
   "pygments_lexer": "ipython3",
   "version": "3.9.7"
  },
  "orig_nbformat": 4
 },
 "nbformat": 4,
 "nbformat_minor": 2
}
