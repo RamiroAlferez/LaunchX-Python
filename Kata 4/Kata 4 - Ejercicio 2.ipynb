{
 "cells": [
  {
   "cell_type": "code",
   "execution_count": 11,
   "metadata": {},
   "outputs": [],
   "source": [
    "# Datos con los que vas a trabajar\n",
    "name = \"Moon\"\n",
    "gravity = 0.00162 # in kms\n",
    "planet = \"Earth\""
   ]
  },
  {
   "cell_type": "markdown",
   "metadata": {},
   "source": [
    "Kata 4 - Ejercicio 2"
   ]
  },
  {
   "cell_type": "code",
   "execution_count": 12,
   "metadata": {},
   "outputs": [
    {
     "name": "stdout",
     "output_type": "stream",
     "text": [
      "Los Sorprendentes Datos Acerca De La Moon.  \n",
      " \n",
      "Un satelite que orbita al rededor del planeta: Earth \n",
      "Gracias a una fuerza de atracción de: 1.6199999999999999 m/s2 la Moon gira.\n",
      " \n",
      "\n",
      "Los Sorprendentes Datos Acerca De La Moon.  \n",
      " \n",
      "Un satelite que orbita al rededor del planeta: Earth \n",
      "Gracias a una fuerza de atracción de: 1.6199999999999999 m/s2 la Moon gira.\n",
      " \n",
      "\n",
      " \n",
      "Un satelite que orbita al rededor del planeta: Marte  \n",
      "Gracias a una fuerza de atracción de: 1.4300000000000002 m/s2 la Ganímedes gira.\n",
      "\n",
      " \n",
      "Un satelite que orbita al rededor del planeta: Marte  \n",
      "Gracias a una fuerza de atracción de: 1.4300000000000002 m/s2 la Ganímedes gira.\n",
      "\n"
     ]
    }
   ],
   "source": [
    "# Primero, crea un título para el texto. Debido a que este texto trata sobre la gravedad en la Tierra y la Luna,\n",
    "# úsalo para crear un título significativo. Utiliza las variables en lugar de escribir.\n",
    "\n",
    "titulo = f'Los sorprendentes datos acerca de la {name}. '\n",
    "\n",
    "\n",
    "# Ahora crea una plantilla de cadena multilínea para contener el resto de la información. En lugar de usar kilómetros,\n",
    "# debes convertir la distancia a metros multiplicando por 1,000.\n",
    "\n",
    "cadena_hechos = f\"\"\" \n",
    "Un satelite que orbita al rededor del planeta: {planet} \n",
    "Gracias a una fuerza de atracción de: {gravity * 1000} m/s2 la {name} gira.\n",
    "\"\"\"\n",
    "\n",
    "# Finalmente, usa ambas variables para unir el título y los hechos.\n",
    "\n",
    "union = f\"\"\"{titulo.title()} \n",
    "{cadena_hechos} \n",
    "\"\"\" \n",
    "print(union)\n",
    "\n",
    "# Ahora usa información de una luna diferente para ver si la plantilla todavía funciona.\n",
    "# Datos muestra:\n",
    "\n",
    "planet = 'Marte'\n",
    "gravity  = 0.00143\n",
    "name = 'Ganímedes'\n",
    "\n",
    "\n",
    "# La salida no muestra información sobre Marte. Todavía muestra información sobre la Luna. \n",
    "# Esto sucede porque las cadenas f están ansiosas en su evaluación, por lo que las variables una vez asignadas no se pueden reasignar.\n",
    "# Para evitar este problema, vuelva a hacer la plantilla para utilizar .format():\n",
    "\n",
    "\n",
    "# titulo = f'Los sorprendentes datos acerca de la {name}. '\n",
    "\n",
    "# cadena_hechos = f\"\"\" \n",
    "# Un satelite que orbita al rededor del planeta: {planet} \n",
    "# Gracias a una fuerza de atracción de: {gravity * 1000} m/s2 la {name} gira.\n",
    "# \"\"\"\n",
    "\n",
    "# union = f\"\"\"{titulo.title()} \n",
    "# {cadena_hechos} \n",
    "# \"\"\" \n",
    "\n",
    "print(union)\n",
    "\n",
    "# Debido a que .format() no permite expresiones, la gravedad en Ganímedes es incorrecta.\n",
    "# Asegúrese de que la operación se realiza fuera de la plantilla de formato e imprima de nuevo para ver el resultado de trabajo.\n",
    "\n",
    "titulo_format = f'Los sorprendentes datos acerca de la {name}. '\n",
    "\n",
    "cadena_hechos_format = f\"\"\" \n",
    "Un satelite que orbita al rededor del planeta: {planeta} \n",
    "Gracias a una fuerza de atracción de: {gravedad * 1000} m/s2 la {nombre} gira.\n",
    "\"\"\"\n",
    "\n",
    "print(cadena_hechos_format.format(nombre=name, planeta=planet, gravedad=gravity))\n"
   ]
  }
 ],
 "metadata": {
  "interpreter": {
   "hash": "0d008810b9c8467bcb3ca39aa2180e5b81b3a9acb136aab30d47954377cc5120"
  },
  "kernelspec": {
   "display_name": "Python 3.9.7 64-bit",
   "language": "python",
   "name": "python3"
  },
  "language_info": {
   "codemirror_mode": {
    "name": "ipython",
    "version": 3
   },
   "file_extension": ".py",
   "mimetype": "text/x-python",
   "name": "python",
   "nbconvert_exporter": "python",
   "pygments_lexer": "ipython3",
   "version": "3.9.7"
  },
  "orig_nbformat": 4
 },
 "nbformat": 4,
 "nbformat_minor": 2
}
