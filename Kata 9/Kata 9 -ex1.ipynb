{
 "cells": [
  {
   "cell_type": "code",
   "execution_count": 5,
   "metadata": {},
   "outputs": [
    {
     "name": "stdout",
     "output_type": "stream",
     "text": [
      "Fuel Report:\n",
      "    Promedio: 800.0 Lts\n",
      "    Tanque Uno: 100 Lts\n",
      "    Tanque Dos: 2000 Lts\n",
      "    Tanque Tres: 300 Lts\n",
      "    \n"
     ]
    }
   ],
   "source": [
    "def informe_tanques(tanque_uno,tanque_dos,tanque_tres):\n",
    "    promedio = (tanque_uno + tanque_dos + tanque_tres) / 3\n",
    "    return f\"\"\"Reporte de Combustible:\n",
    "    Promedio: {promedio} Lts\n",
    "    Tanque Uno: {tanque_uno} Lts\n",
    "    Tanque Dos: {tanque_dos} Lts\n",
    "    Tanque Tres: {tanque_tres} Lts\n",
    "    \"\"\"\n",
    "    \n",
    "print(informe_tanques(100,2000,300))\n"
   ]
  },
  {
   "cell_type": "code",
   "execution_count": null,
   "metadata": {},
   "outputs": [],
   "source": [
    "def promedio(valores):\n",
    "    total=sum(valores)\n",
    "    articulos = len(valores)\n",
    "    promedio= total / articulos\n",
    "    return promedio\n",
    "\n",
    "promedio([180, 95, 111]) "
   ]
  },
  {
   "cell_type": "code",
   "execution_count": 5,
   "metadata": {},
   "outputs": [
    {
     "data": {
      "text/plain": [
       "'Reporte de Combustible:\\n    Promedio: 1600.0 Lts\\n    Tanque Uno: 300 Lts\\n    Tanque Dos: 4000 Lts\\n    Tanque Tres: 500 Lts\\n    '"
      ]
     },
     "execution_count": 5,
     "metadata": {},
     "output_type": "execute_result"
    }
   ],
   "source": [
    "def promedio(valores):\n",
    "    total=sum(valores)\n",
    "    articulos = len(valores)\n",
    "    promedio= total / articulos\n",
    "    return promedio\n",
    "\n",
    "def informe_tanques2(tanque_uno,tanque_dos,tanque_tres):\n",
    "    promedios = promedio([tanque_uno,tanque_dos,tanque_tres])\n",
    "    return f\"\"\"Reporte de Combustible:\n",
    "    Promedio: {promedios} Lts\n",
    "    Tanque Uno: {tanque_uno} Lts\n",
    "    Tanque Dos: {tanque_dos} Lts\n",
    "    Tanque Tres: {tanque_tres} Lts\n",
    "    \"\"\"\n",
    "\n",
    "informe_tanques2(300,400,500) "
   ]
  },
  {
   "cell_type": "code",
   "execution_count": 2,
   "metadata": {},
   "outputs": [
    {
     "data": {
      "text/plain": [
       "128.66666666666666"
      ]
     },
     "execution_count": 2,
     "metadata": {},
     "output_type": "execute_result"
    }
   ],
   "source": [
    "\n"
   ]
  }
 ],
 "metadata": {
  "interpreter": {
   "hash": "0d008810b9c8467bcb3ca39aa2180e5b81b3a9acb136aab30d47954377cc5120"
  },
  "kernelspec": {
   "display_name": "Python 3.9.7 64-bit",
   "language": "python",
   "name": "python3"
  },
  "language_info": {
   "codemirror_mode": {
    "name": "ipython",
    "version": 3
   },
   "file_extension": ".py",
   "mimetype": "text/x-python",
   "name": "python",
   "nbconvert_exporter": "python",
   "pygments_lexer": "ipython3",
   "version": "3.9.7"
  },
  "orig_nbformat": 4
 },
 "nbformat": 4,
 "nbformat_minor": 2
}
