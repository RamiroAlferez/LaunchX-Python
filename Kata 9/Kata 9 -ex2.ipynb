{
 "cells": [
  {
   "cell_type": "code",
   "execution_count": 2,
   "metadata": {},
   "outputs": [
    {
     "name": "stdout",
     "output_type": "stream",
     "text": [
      "\n",
      "    Destino a Luna\n",
      "    Tiempo de Vuelo: 71 minutos\n",
      "    Total de combustible: 640000 Litros\n",
      "    \n"
     ]
    }
   ],
   "source": [
    "def reporte_mision(hora_prelanzamiento, tiempo_vuelo, destino, tanque_externo, tanque_interno):\n",
    "    return f\"\"\"\n",
    "    Destino a {destino}\n",
    "    Tiempo de Vuelo: {hora_prelanzamiento + tiempo_vuelo} minutos\n",
    "    Total de combustible: {tanque_externo + tanque_interno} Litros\n",
    "    \"\"\"\n",
    "\n",
    "print(reporte_mision(11, 60, \"Luna\", 40000, 600000))"
   ]
  },
  {
   "cell_type": "code",
   "execution_count": 6,
   "metadata": {},
   "outputs": [
    {
     "name": "stdout",
     "output_type": "stream",
     "text": [
      "\n",
      "    Destino a Luna\n",
      "    Tiempo de Vuelo: 86 minutos\n",
      "    Total de combustible: 640000 Litros\n",
      "    \n"
     ]
    }
   ],
   "source": [
    "def reporte_mision(destino, *minutos, **tanques):\n",
    "    return f\"\"\"\n",
    "    Destino a {destino}\n",
    "    Tiempo de Vuelo: {sum(minutos)} minutos\n",
    "    Total de combustible: {sum(tanques.values())} Litros\n",
    "    \"\"\"\n",
    "\n",
    "print(reporte_mision(\"Luna\", 14, 51, 21, externo=40000, interno=600000))"
   ]
  },
  {
   "cell_type": "code",
   "execution_count": 10,
   "metadata": {},
   "outputs": [
    {
     "name": "stdout",
     "output_type": "stream",
     "text": [
      "\n",
      "    Destino a Luna\n",
      "    Tiempo de Vuelo: 86 minutos\n",
      "    Total de combustible: 640000 Litros\n",
      "    externo tanque --> 40000 litros restantes\n",
      "interno tanque --> 600000 litros restantes\n",
      "\n"
     ]
    }
   ],
   "source": [
    "\n",
    "def reporte_mision(destino, *minutos, **tanques):\n",
    "    reporte_vuelo = f\"\"\"\n",
    "    Destino a {destino}\n",
    "    Tiempo de Vuelo: {sum(minutos)} minutos\n",
    "    Total de combustible: {sum(tanques.values())} Litros\n",
    "    \"\"\"\n",
    "    for nombre_tanque, litros in tanques.items():\n",
    "        reporte_vuelo += f\"{nombre_tanque} tanque --> {litros} litros restantes\\n\"\n",
    "    return reporte_vuelo\n",
    "\n",
    "print(reporte_mision(\"Luna\", 14, 51, 21, externo=40000, interno=600000))\n",
    "\n"
   ]
  }
 ],
 "metadata": {
  "interpreter": {
   "hash": "0d008810b9c8467bcb3ca39aa2180e5b81b3a9acb136aab30d47954377cc5120"
  },
  "kernelspec": {
   "display_name": "Python 3.9.7 64-bit",
   "language": "python",
   "name": "python3"
  },
  "language_info": {
   "codemirror_mode": {
    "name": "ipython",
    "version": 3
   },
   "file_extension": ".py",
   "mimetype": "text/x-python",
   "name": "python",
   "nbconvert_exporter": "python",
   "pygments_lexer": "ipython3",
   "version": "3.9.7"
  },
  "orig_nbformat": 4
 },
 "nbformat": 4,
 "nbformat_minor": 2
}
