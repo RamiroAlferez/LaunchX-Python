{
 "cells": [
  {
   "cell_type": "code",
   "execution_count": 8,
   "metadata": {},
   "outputs": [
    {
     "name": "stdout",
     "output_type": "stream",
     "text": [
      "628949330\n",
      "390577533.93\n"
     ]
    }
   ],
   "source": [
    "# Exploremos cómo podemos crear un programa que pueda calcular la distancia entre dos planetas. \n",
    "# Comenzaremos usando dos distancias de planetas: Tierra (149.597.870 km) y Júpiter (778.547.200 km).\n",
    "\n",
    "tierra = 149597870 # Km\n",
    "jupiter = 778547200  # km\n",
    "\n",
    "distancia = tierra - jupiter\n",
    "\n",
    "print(abs(distancia))\n",
    "\n",
    "# A continuación, puedes convertir la distancia del kilómetro en millas multiplicándola por 0.621.\n",
    "\n",
    "distancia_mi = distancia * 0.621\n",
    "print(abs(distancia_mi))\n"
   ]
  },
  {
   "cell_type": "markdown",
   "metadata": {},
   "source": [
    "Kata 5 - Ejercicio 1"
   ]
  }
 ],
 "metadata": {
  "interpreter": {
   "hash": "0d008810b9c8467bcb3ca39aa2180e5b81b3a9acb136aab30d47954377cc5120"
  },
  "kernelspec": {
   "display_name": "Python 3.9.7 64-bit",
   "language": "python",
   "name": "python3"
  },
  "language_info": {
   "codemirror_mode": {
    "name": "ipython",
    "version": 3
   },
   "file_extension": ".py",
   "mimetype": "text/x-python",
   "name": "python",
   "nbconvert_exporter": "python",
   "pygments_lexer": "ipython3",
   "version": "3.9.7"
  },
  "orig_nbformat": 4
 },
 "nbformat": 4,
 "nbformat_minor": 2
}
