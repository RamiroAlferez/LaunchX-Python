{
 "cells": [
  {
   "cell_type": "code",
   "execution_count": 13,
   "metadata": {},
   "outputs": [
    {
     "name": "stdout",
     "output_type": "stream",
     "text": [
      "42\n",
      "18\n",
      "360\n",
      "2.5\n",
      "17\n",
      "17\n",
      "22\n",
      "1084\n",
      "1084\n",
      "215\n",
      "215.3\n",
      "23\n",
      "23\n",
      "14\n",
      "13\n",
      "12\n"
     ]
    }
   ],
   "source": [
    "answer = 30 + 12\n",
    "print(answer)\n",
    "\n",
    "difference = 30 - 12\n",
    "print(difference)\n",
    "\n",
    "product = 30 * 12\n",
    "print(product)\n",
    "\n",
    "quotient = 30 / 12\n",
    "print(quotient)\n",
    "\n",
    "seconds = 1042\n",
    "display_minutes = 1042 // 60\n",
    "print(display_minutes)\n",
    "\n",
    "seconds = 1042\n",
    "display_minutes = 1042 // 60\n",
    "display_seconds = 1042 % 60\n",
    "\n",
    "print(display_minutes)\n",
    "print(display_seconds)\n",
    "\n",
    "result_1 = 1032 + 26 * 2\n",
    "result_2 = 1032 + (26 * 2)\n",
    "print(result_1)\n",
    "print(result_2)\n",
    "\n",
    "demo_int = int('215')\n",
    "print(demo_int)\n",
    "\n",
    "demo_float = float('215.3')\n",
    "print(demo_float)\n",
    "\n",
    "print(abs(39 - 16))\n",
    "print(abs(16 - 39))\n",
    "\n",
    "print(round(14.5))\n",
    "\n",
    "from math import ceil, floor\n",
    "\n",
    "round_up = ceil(12.5)\n",
    "print(round_up)\n",
    "\n",
    "round_down = floor(12.5)\n",
    "print(round_down)"
   ]
  }
 ],
 "metadata": {
  "interpreter": {
   "hash": "0d008810b9c8467bcb3ca39aa2180e5b81b3a9acb136aab30d47954377cc5120"
  },
  "kernelspec": {
   "display_name": "Python 3.9.7 64-bit",
   "language": "python",
   "name": "python3"
  },
  "language_info": {
   "codemirror_mode": {
    "name": "ipython",
    "version": 3
   },
   "file_extension": ".py",
   "mimetype": "text/x-python",
   "name": "python",
   "nbconvert_exporter": "python",
   "pygments_lexer": "ipython3",
   "version": "3.9.7"
  },
  "orig_nbformat": 4
 },
 "nbformat": 4,
 "nbformat_minor": 2
}
