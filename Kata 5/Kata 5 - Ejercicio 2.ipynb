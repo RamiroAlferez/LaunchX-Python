{
 "cells": [
  {
   "cell_type": "code",
   "execution_count": 3,
   "metadata": {},
   "outputs": [
    {
     "name": "stdout",
     "output_type": "stream",
     "text": [
      "La distancia del Sol al Planeta Uno en Km es:42913029199922\n",
      "La distancia del Sol al Planeta Dos en Km es:286778596977\n",
      "La distancia entre el Planeta Uno y el Planeta Dos en Km es: 43199807796899\n",
      "La distancia del Sol al Planeta Uno en Millas es:26648991133151.562\n",
      "La distancia del Sol al Planeta Dos en Millas es:178089508722.717\n",
      "La distancia entre el Planeta Uno y el Planeta Dos en Millas es: 26827080641874.277\n"
     ]
    }
   ],
   "source": [
    "# Para crear nuestra aplicación, queremos leer la distancia del sol para dos planetas, \n",
    "# y luego mostrar la distancia entre los planetas. Haremos esto usando input para leer los valores, \n",
    "# int para convertir a entero y luego abs para convertir el resultado en su valor absoluto.\n",
    "\n",
    "sol = int(input('Digite la distancia del Sol:'))\n",
    "planeta_uno = int(input('Escriba la distancia del primer planeta:'))\n",
    "planeta_dos = int(input('Escriba la distancia del segundo planeta:'))\n",
    "distancia_sol_planeta_uno = sol - planeta_uno\n",
    "distancia_sol_planeta_dos = sol - planeta_dos\n",
    "distancia_entre_planetas = distancia_sol_planeta_uno - distancia_sol_planeta_dos\n",
    "\n",
    "print(f'La distancia del Sol al Planeta Uno en Km es:{abs(distancia_sol_planeta_uno)}')\n",
    "print(f'La distancia del Sol al Planeta Dos en Km es:{abs(distancia_sol_planeta_dos)}')\n",
    "print(f'La distancia entre el Planeta Uno y el Planeta Dos en Km es: {abs(distancia_entre_planetas)}')\n",
    "\n",
    "# También agregarás el código para mostrar el resultado en millas multiplicando la distancia del kilómetro por 0.621\n",
    "\n",
    "print(f'La distancia del Sol al Planeta Uno en Millas es:{abs(distancia_sol_planeta_uno*0.621)}')\n",
    "print(f'La distancia del Sol al Planeta Dos en Millas es:{abs(distancia_sol_planeta_dos*0.621)}')\n",
    "print(f'La distancia entre el Planeta Uno y el Planeta Dos en Millas es: {abs(distancia_entre_planetas*0.621)}')"
   ]
  },
  {
   "cell_type": "markdown",
   "metadata": {},
   "source": [
    "Kata 5 - Ejercicio 2"
   ]
  }
 ],
 "metadata": {
  "interpreter": {
   "hash": "0d008810b9c8467bcb3ca39aa2180e5b81b3a9acb136aab30d47954377cc5120"
  },
  "kernelspec": {
   "display_name": "Python 3.9.7 64-bit",
   "language": "python",
   "name": "python3"
  },
  "language_info": {
   "codemirror_mode": {
    "name": "ipython",
    "version": 3
   },
   "file_extension": ".py",
   "mimetype": "text/x-python",
   "name": "python",
   "nbconvert_exporter": "python",
   "pygments_lexer": "ipython3",
   "version": "3.9.7"
  },
  "orig_nbformat": 4
 },
 "nbformat": 4,
 "nbformat_minor": 2
}
